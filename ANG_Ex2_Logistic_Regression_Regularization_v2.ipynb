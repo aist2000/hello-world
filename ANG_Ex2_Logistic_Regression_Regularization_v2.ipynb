{
  "nbformat": 4,
  "nbformat_minor": 0,
  "metadata": {
    "colab": {
      "name": "ANG_Ex2_Logistic Regression_Regularization_v2",
      "provenance": [],
      "private_outputs": true,
      "collapsed_sections": [],
      "include_colab_link": true
    },
    "kernelspec": {
      "name": "python3",
      "display_name": "Python 3"
    }
  },
  "cells": [
    {
      "cell_type": "markdown",
      "metadata": {
        "id": "view-in-github",
        "colab_type": "text"
      },
      "source": [
        "<a href=\"https://colab.research.google.com/github/aist2000/ml-test/blob/master/ANG_Ex2_Logistic_Regression_Regularization_v2.ipynb\" target=\"_parent\"><img src=\"https://colab.research.google.com/assets/colab-badge.svg\" alt=\"Open In Colab\"/></a>"
      ]
    },
    {
      "cell_type": "markdown",
      "metadata": {
        "id": "oCv3DQ67PXvE",
        "colab_type": "text"
      },
      "source": [
        "# Andrew Ng’s Machine Learning (Logistic Regression with Regularization)\n",
        "\n"
      ]
    },
    {
      "cell_type": "markdown",
      "metadata": {
        "id": "qzVkhtp-rNKb",
        "colab_type": "text"
      },
      "source": [
        ""
      ]
    },
    {
      "cell_type": "markdown",
      "metadata": {
        "id": "ElVqyRdE4ie0",
        "colab_type": "text"
      },
      "source": [
        "# Initialize Data"
      ]
    },
    {
      "cell_type": "code",
      "metadata": {
        "id": "7DXEJJ7QPZId",
        "colab_type": "code",
        "colab": {}
      },
      "source": [
        "import matplotlib.pyplot as plt\n",
        "import numpy as np\n",
        "import pandas as pd\n",
        "import array as arr\n",
        "\n",
        "from sklearn import datasets, linear_model\n",
        "\n"
      ],
      "execution_count": 0,
      "outputs": []
    },
    {
      "cell_type": "code",
      "metadata": {
        "id": "jI5RyAyIFRah",
        "colab_type": "code",
        "colab": {}
      },
      "source": [
        "print(\"Andrew Ng Logistic Regression with Regularization\")"
      ],
      "execution_count": 0,
      "outputs": []
    },
    {
      "cell_type": "code",
      "metadata": {
        "id": "TyerQEzJGOgz",
        "colab_type": "code",
        "colab": {}
      },
      "source": [
        "url=\"https://raw.githubusercontent.com/aist2000/ml-test/master/py/machine-learning-ex2/ex2data2.txt\"\n",
        "df = pd.read_csv(url, header=None)\n",
        "df.head()\n"
      ],
      "execution_count": 0,
      "outputs": []
    },
    {
      "cell_type": "code",
      "metadata": {
        "id": "3PKHyoFXQYuo",
        "colab_type": "code",
        "colab": {}
      },
      "source": [
        "df.describe()"
      ],
      "execution_count": 0,
      "outputs": []
    },
    {
      "cell_type": "code",
      "metadata": {
        "id": "rZ_1N9HJ5Z-_",
        "colab_type": "code",
        "colab": {}
      },
      "source": [
        "df=df.rename(columns={0:'X1',1:'X2',2:'label'})\n",
        "df.head()\n"
      ],
      "execution_count": 0,
      "outputs": []
    },
    {
      "cell_type": "code",
      "metadata": {
        "id": "MC-e8G-cC8Pw",
        "colab_type": "code",
        "colab": {}
      },
      "source": [
        "X = df.iloc[:,0:2]\n",
        "y = df.iloc[:,2:3]\n",
        "\n",
        "X_train = X\n",
        "y_train = y\n"
      ],
      "execution_count": 0,
      "outputs": []
    },
    {
      "cell_type": "code",
      "metadata": {
        "id": "gz9KvIdg4dsb",
        "colab_type": "code",
        "colab": {}
      },
      "source": [
        "pos=X[y.label==1]\n",
        "neg=X[y.label==0]\n"
      ],
      "execution_count": 0,
      "outputs": []
    },
    {
      "cell_type": "markdown",
      "metadata": {
        "id": "4-Lvz6OvVCAq",
        "colab_type": "text"
      },
      "source": [
        "**Scilearn Logistic Regression**"
      ]
    },
    {
      "cell_type": "code",
      "metadata": {
        "id": "Jazfi1sV4_ah",
        "colab_type": "code",
        "colab": {}
      },
      "source": [
        "\n",
        "# import the class\n",
        "from sklearn.linear_model import LogisticRegression\n",
        "from sklearn.preprocessing import PolynomialFeatures\n",
        "\n",
        "# instantiate the model (using the default parameters)\n",
        "#model = LogisticRegression(solver=\"liblinear\")\n",
        "\n",
        "#model = LogisticRegression(max_iter =400, solver='lbfgs')\n",
        "\n",
        "# apply Regularization C=1\n",
        "\n",
        "model = LogisticRegression(max_iter =400, solver='lbfgs', C= 1 )\n",
        "\n",
        "poly = PolynomialFeatures(degree = 6,interaction_only=False, include_bias=False)\n",
        "\n",
        "\n",
        "\n",
        "\n",
        "\n",
        "\n",
        "# make a continuous grid of values \n",
        "# and evaluate the probability of each (x, y) point in the grid:\n",
        "xx, yy = np.mgrid[-1.5:1.5:.05, -1.5:1.5:.05]        \n",
        "\n",
        "grid = np.c_[xx.ravel(), yy.ravel()]\n",
        "\n",
        "\n",
        "X_train_poly= poly.fit_transform(X_train)\n",
        "\n",
        "model.fit( X_train_poly, y_train.label)\n",
        "\n",
        "model.coef_, model.intercept_\n",
        "\n",
        "grid_poly= poly.fit_transform(grid)\n",
        "\n",
        "probs = model.predict_proba(grid_poly)[:, 1].reshape(xx.shape)\n",
        "\n",
        "\n",
        "# Create chart\n",
        "fig, ax = plt.subplots()\n",
        "\n",
        "ser1 = ax.scatter(pos.X1,pos.X2, color='black', marker='+', linewidth='1', label='Positive')\n",
        "ser2 = ax.scatter(neg.X1,neg.X2, color=\"yellow\", marker='o', edgecolor='black', linewidth='1', label='Negative')\n",
        "\n",
        "\n",
        "CS =ax.contour(xx, yy, probs, levels=[.5], colors='green')\n",
        "CS.collections[0].set_label('Decision Boundary')\n",
        "\n",
        "\n",
        "\n",
        "plt.xlabel(\"Microchip Test 1\")\n",
        "plt.ylabel(\"Microchip Test 2\")\n",
        "\n",
        "plt.legend(loc='upper right')\n",
        "\n",
        "plt.axis([-1, 1.5, -1., 1.2])\n",
        "\n",
        "\n",
        "plt.show()\n",
        "\n",
        "\n",
        "\n"
      ],
      "execution_count": 0,
      "outputs": []
    },
    {
      "cell_type": "markdown",
      "metadata": {
        "id": "IxumD91zp_On",
        "colab_type": "text"
      },
      "source": [
        ""
      ]
    },
    {
      "cell_type": "code",
      "metadata": {
        "id": "jeHIExUnUlGJ",
        "colab_type": "code",
        "colab": {}
      },
      "source": [
        "x1val = [[0,.5],[-.5,-.5]]\n",
        "x1=  poly.fit_transform(x1val)\n",
        "\n",
        "pred1= model.predict( x1)\n",
        "proba1= model.predict_proba( x1)\n",
        "print(\"For parameters = {}, we predict {} proba={}\".format(x1val, pred1, proba1[:,1]))\n",
        "\n",
        "\n",
        "model_accuracy=model.score(X_train_poly,  y.label)\n",
        "\n",
        "\n",
        "y_pred= model.predict( X_train_poly)\n",
        "\n",
        "calc_accuracy =  sum(y_pred == y.label) /  y.label.count()\n",
        "\n",
        "print(\"\\nModel Accuracy {} ; Calculated Accuracy={}\\n\\n\".format(model_accuracy, calc_accuracy) )\n",
        "\n",
        "\n",
        "\n"
      ],
      "execution_count": 0,
      "outputs": []
    }
  ]
}