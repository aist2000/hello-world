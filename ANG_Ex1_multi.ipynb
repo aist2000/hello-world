{
  "nbformat": 4,
  "nbformat_minor": 0,
  "metadata": {
    "colab": {
      "name": "ANG_Ex1_multi",
      "provenance": [],
      "private_outputs": true,
      "collapsed_sections": [],
      "include_colab_link": true
    },
    "kernelspec": {
      "name": "python3",
      "display_name": "Python 3"
    }
  },
  "cells": [
    {
      "cell_type": "markdown",
      "metadata": {
        "id": "view-in-github",
        "colab_type": "text"
      },
      "source": [
        "<a href=\"https://colab.research.google.com/github/aist2000/ml-test/blob/master/ANG_Ex1_multi.ipynb\" target=\"_parent\"><img src=\"https://colab.research.google.com/assets/colab-badge.svg\" alt=\"Open In Colab\"/></a>"
      ]
    },
    {
      "cell_type": "markdown",
      "metadata": {
        "id": "oCv3DQ67PXvE",
        "colab_type": "text"
      },
      "source": [
        "# Andrew Ng’s Machine Learning Course in Python (Linear Regression - Multiple features)\n",
        "\n"
      ]
    },
    {
      "cell_type": "code",
      "metadata": {
        "id": "7DXEJJ7QPZId",
        "colab_type": "code",
        "colab": {}
      },
      "source": [
        "import matplotlib.pyplot as plt\n",
        "import numpy as np\n",
        "import pandas as pd\n",
        "import array as arr\n",
        "\n",
        "from scipy.stats import multivariate_normal\n",
        "from sklearn import datasets, linear_model\n"
      ],
      "execution_count": 0,
      "outputs": []
    },
    {
      "cell_type": "code",
      "metadata": {
        "id": "jI5RyAyIFRah",
        "colab_type": "code",
        "colab": {}
      },
      "source": [
        "print(\"Andrew Ng Linear Regression\")"
      ],
      "execution_count": 0,
      "outputs": []
    },
    {
      "cell_type": "code",
      "metadata": {
        "id": "TyerQEzJGOgz",
        "colab_type": "code",
        "colab": {}
      },
      "source": [
        "url=\"https://raw.githubusercontent.com/aist2000/ml-test/master/py/machine-learning-ex1/ex1data2.txt\"\n",
        "data = pd.read_csv(url, header=None)\n",
        "data.head()\n"
      ],
      "execution_count": 0,
      "outputs": []
    },
    {
      "cell_type": "code",
      "metadata": {
        "id": "3PKHyoFXQYuo",
        "colab_type": "code",
        "colab": {}
      },
      "source": [
        "data.describe()"
      ],
      "execution_count": 0,
      "outputs": []
    },
    {
      "cell_type": "code",
      "metadata": {
        "id": "RVeV7E61OSJ8",
        "colab_type": "code",
        "colab": {}
      },
      "source": [
        "# Create 2 subplot, 1 for each variable\n",
        "fig, axes = plt.subplots(figsize=(12,4),nrows=1,ncols=2)\n",
        "\n",
        "axes[0].scatter(data[0],data[2],color=\"b\")\n",
        "axes[0].set_xlabel(\"Size (Square Feet)\")\n",
        "axes[0].set_ylabel(\"Prices\")\n",
        "axes[0].set_title(\"House prices against size of house\")\n",
        "\n",
        "axes[1].scatter(data[1],data[2],color=\"r\")\n",
        "axes[1].set_xlabel(\"Number of bedroom\")\n",
        "axes[1].set_ylabel(\"Prices\")\n",
        "axes[1].set_xticks(np.arange(1,6,step=1))\n",
        "axes[1].set_title(\"House prices against number of bedroom\")\n",
        "# Enhance layout\n",
        "plt.tight_layout()"
      ],
      "execution_count": 0,
      "outputs": []
    },
    {
      "cell_type": "markdown",
      "metadata": {
        "id": "CBE8FvO-u77U",
        "colab_type": "text"
      },
      "source": [
        ""
      ]
    },
    {
      "cell_type": "markdown",
      "metadata": {
        "id": "PMh4o3P0W60K",
        "colab_type": "text"
      },
      "source": [
        "**Scipy Linear Regression**"
      ]
    },
    {
      "cell_type": "code",
      "metadata": {
        "id": "hbJEjy8zPlVx",
        "colab_type": "code",
        "colab": {}
      },
      "source": [
        "\n",
        "from scipy import stats"
      ],
      "execution_count": 0,
      "outputs": []
    },
    {
      "cell_type": "code",
      "metadata": {
        "id": "5WVycV0Ua36Q",
        "colab_type": "code",
        "colab": {}
      },
      "source": [
        "slope, intercept, r_value, p_value, std_err = stats.linregress(x,y)\n",
        "slope, intercept"
      ],
      "execution_count": 0,
      "outputs": []
    },
    {
      "cell_type": "code",
      "metadata": {
        "id": "CGywlzumPy1M",
        "colab_type": "code",
        "colab": {}
      },
      "source": [
        "x1_value = min(x)\n",
        "x2_value = max(x)\n",
        "y1_value = intercept + slope * x1_value\n",
        "y2_value = intercept + slope * x2_value\n",
        "\n",
        "x1_value, x2_value,y1_value, y2_value\n"
      ],
      "execution_count": 0,
      "outputs": []
    },
    {
      "cell_type": "code",
      "metadata": {
        "id": "AaIvKQfXT6F2",
        "colab_type": "code",
        "colab": {}
      },
      "source": [
        "plt.scatter(data[0],data[1])\n",
        "plt.plot( [x1_value, x2_value],[y1_value, y2_value], 'r')\n"
      ],
      "execution_count": 0,
      "outputs": []
    },
    {
      "cell_type": "markdown",
      "metadata": {
        "id": "Wc-rKZTbGCAS",
        "colab_type": "text"
      },
      "source": [
        "**Predictions by SciPy**"
      ]
    },
    {
      "cell_type": "code",
      "metadata": {
        "id": "SujSSq9IF-b2",
        "colab_type": "code",
        "colab": {}
      },
      "source": [
        "mult = 10000\n",
        "x1= 3.5\n",
        "pred1= intercept + slope * x1\n",
        "x1a = x1 * mult\n",
        "pred1a = pred1 * mult\n",
        "print(\"For population = {}, we predict a profit of ${:,.2f}\".format(x1a, pred1a))\n",
        "\n",
        "  \n",
        "x1= 7\n",
        "pred1= intercept + slope * x1\n",
        "x1a = x1 * mult\n",
        "pred1a = pred1 * mult\n",
        "print(\"For population = {}, we predict a profit of ${:,.2f}\".format(x1a, pred1a))\n",
        "\n",
        "x1= 10\n",
        "pred1= intercept + slope * x1\n",
        "x1a = x1 * mult\n",
        "pred1a = pred1 * mult\n",
        "print(\"For population = {}, we predict a profit of ${:,.2f}\".format(x1a, pred1a))\n"
      ],
      "execution_count": 0,
      "outputs": []
    },
    {
      "cell_type": "markdown",
      "metadata": {
        "id": "4-Lvz6OvVCAq",
        "colab_type": "text"
      },
      "source": [
        "**Scilearn Linear Regression**"
      ]
    },
    {
      "cell_type": "code",
      "metadata": {
        "id": "jqSsTc5UXLwZ",
        "colab_type": "code",
        "colab": {}
      },
      "source": [
        "xl = x.values.reshape(-1, 1)\n",
        "yl = y.values.reshape(-1, 1)\n",
        "\n",
        "# Create linear regression object\n",
        "#regr = linear_model.LinearRegression()\n",
        "regr = linear_model.LinearRegression(normalize=True)\n",
        "\n",
        "# Train the model using the training sets\n",
        "regr.fit( xl,  yl)\n",
        "\n"
      ],
      "execution_count": 0,
      "outputs": []
    },
    {
      "cell_type": "code",
      "metadata": {
        "id": "0Px0WSCIX9xl",
        "colab_type": "code",
        "colab": {}
      },
      "source": [
        "plt.scatter(data[0],data[1])\n",
        "\n",
        "plt.plot(xl, regr.predict(xl), color='red', linewidth=1)\n"
      ],
      "execution_count": 0,
      "outputs": []
    },
    {
      "cell_type": "code",
      "metadata": {
        "id": "n2DiDhINtuiM",
        "colab_type": "code",
        "colab": {}
      },
      "source": [
        "regr.coef_, regr.intercept_"
      ],
      "execution_count": 0,
      "outputs": []
    },
    {
      "cell_type": "markdown",
      "metadata": {
        "id": "QT110dDdvk0K",
        "colab_type": "text"
      },
      "source": [
        "**Predictions by SciLearn**"
      ]
    },
    {
      "cell_type": "code",
      "metadata": {
        "id": "bCNz1Rfhvnu2",
        "colab_type": "code",
        "colab": {}
      },
      "source": [
        "mult = 10000\n",
        "\n",
        "x1= 3.5\n",
        "pred1= regr.predict( np.array(x1, ndmin=2) )\n",
        "x1a = x1 * mult\n",
        "pred1a = pred1 * mult\n",
        "print(\"For population = {}, we predict a profit of ${:,.2f}\".format(x1a, pred1a[0][0]))\n",
        "\n",
        "x1= 7\n",
        "pred1= regr.predict( np.array(x1, ndmin=2) )\n",
        "x1a = x1 * mult\n",
        "pred1a = pred1 * mult\n",
        "print(\"For population = {}, we predict a profit of ${:,.2f}\".format(x1a, pred1a[0][0]))\n",
        "\n",
        "x1= 10\n",
        "pred1= regr.predict( np.array(x1, ndmin=2) )\n",
        "x1a = x1 * mult\n",
        "pred1a = pred1 * mult\n",
        "print(\"For population = {}, we predict a profit of ${:,.2f}\".format(x1a, pred1a[0][0]))\n",
        "\n"
      ],
      "execution_count": 0,
      "outputs": []
    }
  ]
}