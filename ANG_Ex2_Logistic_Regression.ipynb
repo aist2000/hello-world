{
  "nbformat": 4,
  "nbformat_minor": 0,
  "metadata": {
    "colab": {
      "name": "ANG_Ex2_Logistic Regression",
      "provenance": [],
      "private_outputs": true,
      "collapsed_sections": [],
      "include_colab_link": true
    },
    "kernelspec": {
      "name": "python3",
      "display_name": "Python 3"
    }
  },
  "cells": [
    {
      "cell_type": "markdown",
      "metadata": {
        "id": "view-in-github",
        "colab_type": "text"
      },
      "source": [
        "<a href=\"https://colab.research.google.com/github/aist2000/ml-test/blob/master/ANG_Ex2_Logistic_Regression.ipynb\" target=\"_parent\"><img src=\"https://colab.research.google.com/assets/colab-badge.svg\" alt=\"Open In Colab\"/></a>"
      ]
    },
    {
      "cell_type": "markdown",
      "metadata": {
        "id": "oCv3DQ67PXvE",
        "colab_type": "text"
      },
      "source": [
        "# Andrew Ng’s Machine Learning (Logistic Regression)\n",
        "\n"
      ]
    },
    {
      "cell_type": "code",
      "metadata": {
        "id": "7DXEJJ7QPZId",
        "colab_type": "code",
        "colab": {}
      },
      "source": [
        "import matplotlib.pyplot as plt\n",
        "import numpy as np\n",
        "import pandas as pd\n",
        "import array as arr\n",
        "\n",
        "from sklearn import datasets, linear_model\n"
      ],
      "execution_count": 0,
      "outputs": []
    },
    {
      "cell_type": "code",
      "metadata": {
        "id": "jI5RyAyIFRah",
        "colab_type": "code",
        "colab": {}
      },
      "source": [
        "print(\"Andrew Ng Logistic Regression\")"
      ],
      "execution_count": 0,
      "outputs": []
    },
    {
      "cell_type": "code",
      "metadata": {
        "id": "TyerQEzJGOgz",
        "colab_type": "code",
        "colab": {}
      },
      "source": [
        "url=\"https://raw.githubusercontent.com/aist2000/ml-test/master/py/machine-learning-ex2/ex2data1.txt\"\n",
        "df = pd.read_csv(url, header=None)\n",
        "df.head()\n"
      ],
      "execution_count": 0,
      "outputs": []
    },
    {
      "cell_type": "code",
      "metadata": {
        "id": "3PKHyoFXQYuo",
        "colab_type": "code",
        "colab": {}
      },
      "source": [
        "df.describe()"
      ],
      "execution_count": 0,
      "outputs": []
    },
    {
      "cell_type": "code",
      "metadata": {
        "id": "MC-e8G-cC8Pw",
        "colab_type": "code",
        "colab": {}
      },
      "source": [
        "X = df[[0,1]]\n",
        "y = df[[2]]\n",
        "\n",
        "X_train = X\n",
        "y_train = y\n",
        "y.shape"
      ],
      "execution_count": 0,
      "outputs": []
    },
    {
      "cell_type": "code",
      "metadata": {
        "id": "gz9KvIdg4dsb",
        "colab_type": "code",
        "colab": {}
      },
      "source": [
        "pos=X[y[2]==1]\n",
        "neg=X[y[2]==0]\n"
      ],
      "execution_count": 0,
      "outputs": []
    },
    {
      "cell_type": "code",
      "metadata": {
        "id": "RVeV7E61OSJ8",
        "colab_type": "code",
        "colab": {}
      },
      "source": [
        "# Chart\n",
        "ser1 = plt.plot(pos[0],pos[1],\"bo\", label='Positive')\n",
        "ser2 = plt.plot(neg[0],neg[1],\"yo\", label='Negative')\n",
        "\n",
        "plt.xlabel('Exam 1 score')\n",
        "plt.ylabel('Exam 2 score')\n",
        "\n",
        "plt.legend(loc='upper right')\n",
        "\n"
      ],
      "execution_count": 0,
      "outputs": []
    },
    {
      "cell_type": "markdown",
      "metadata": {
        "id": "4-Lvz6OvVCAq",
        "colab_type": "text"
      },
      "source": [
        "**Scilearn Logistic Regression**"
      ]
    },
    {
      "cell_type": "code",
      "metadata": {
        "id": "jqSsTc5UXLwZ",
        "colab_type": "code",
        "colab": {}
      },
      "source": [
        "# import the class\n",
        "from sklearn.linear_model import LogisticRegression\n",
        "\n",
        "# instantiate the model (using the default parameters)\n",
        "regr = LogisticRegression(solver=\"liblinear\")\n",
        "\n",
        "# fit the model with data\n",
        "yr=y_train.to_numpy().reshape(-1)\n",
        "\n",
        "regr.fit(X_train, yr)\n",
        "\n",
        "#\n",
        "#y_pred=logreg.predict(X_test)\n",
        "\n",
        "regr.coef_, regr.intercept_\n"
      ],
      "execution_count": 0,
      "outputs": []
    },
    {
      "cell_type": "markdown",
      "metadata": {
        "id": "QT110dDdvk0K",
        "colab_type": "text"
      },
      "source": [
        "**Predictions by SciLearn**"
      ]
    },
    {
      "cell_type": "code",
      "metadata": {
        "id": "jeHIExUnUlGJ",
        "colab_type": "code",
        "colab": {}
      },
      "source": [
        "x1= [45, 85]\n",
        "pred1= regr.predict( np.array(x1, ndmin=2) )\n",
        "proba1= regr.predict_proba( np.array(x1, ndmin=2) )\n",
        "print(\"For population = {}, we predict {} proba={}\".format(x1, pred1, proba1))\n",
        "\n",
        "x1= [5, 5]\n",
        "pred1= regr.predict( np.array(x1, ndmin=2) )\n",
        "proba1= regr.predict_proba( np.array(x1, ndmin=2) )\n",
        "print(\"For population = {}, we predict {} proba={}\".format(x1, pred1, proba1))\n",
        "\n",
        "\n",
        "\n"
      ],
      "execution_count": 0,
      "outputs": []
    }
  ]
}