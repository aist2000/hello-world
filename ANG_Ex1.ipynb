{
  "nbformat": 4,
  "nbformat_minor": 0,
  "metadata": {
    "colab": {
      "name": "ANG_Ex1",
      "provenance": [],
      "collapsed_sections": [],
      "include_colab_link": true
    },
    "kernelspec": {
      "name": "python3",
      "display_name": "Python 3"
    }
  },
  "cells": [
    {
      "cell_type": "markdown",
      "metadata": {
        "id": "view-in-github",
        "colab_type": "text"
      },
      "source": [
        "<a href=\"https://colab.research.google.com/github/aist2000/ml-test/blob/master/ANG_Ex1.ipynb\" target=\"_parent\"><img src=\"https://colab.research.google.com/assets/colab-badge.svg\" alt=\"Open In Colab\"/></a>"
      ]
    },
    {
      "cell_type": "code",
      "metadata": {
        "id": "ENEhh-jIWejm",
        "colab_type": "code",
        "colab": {}
      },
      "source": [
        "import matplotlib.pyplot as plt\n",
        "from scipy.stats import multivariate_normal\n",
        "\n",
        "import numpy as np"
      ],
      "execution_count": 0,
      "outputs": []
    },
    {
      "cell_type": "code",
      "metadata": {
        "id": "xbQZsvkKXMeF",
        "colab_type": "code",
        "outputId": "e9748363-b679-4e7f-a473-39d85eced9f0",
        "colab": {
          "base_uri": "https://localhost:8080/",
          "height": 286
        }
      },
      "source": [
        "x = np.linspace(0, 5, 10, endpoint=False)\n",
        "y = multivariate_normal.pdf(x, mean=2.5, cov=0.5); y\n",
        "\n",
        "\n",
        "fig1 = plt.figure()\n",
        "ax = fig1.add_subplot(111)\n",
        "ax.plot(x, y)\n"
      ],
      "execution_count": 0,
      "outputs": [
        {
          "output_type": "execute_result",
          "data": {
            "text/plain": [
              "[<matplotlib.lines.Line2D at 0x7f65edd87160>]"
            ]
          },
          "metadata": {
            "tags": []
          },
          "execution_count": 8
        },
        {
          "output_type": "display_data",
          "data": {
            "image/png": "[encoded data removed]",
            "text/plain": [
              "<Figure size 432x288 with 1 Axes>"
            ]
          },
          "metadata": {
            "tags": []
          }
        }
      ]
    },
    {
      "cell_type": "code",
      "metadata": {
        "id": "v3l4Q64YXQMm",
        "colab_type": "code",
        "outputId": "1538946e-3e21-41f7-839c-a0f464a8c0cf",
        "colab": {
          "base_uri": "https://localhost:8080/",
          "height": 286
        }
      },
      "source": [
        "x, y = np.mgrid[-1:1:.01, -1:1:.01]\n",
        "pos = np.dstack((x, y))\n",
        "rv = multivariate_normal([0.5, -0.2], [[2.0, 0.3], [0.3, 0.5]])\n",
        "fig2 = plt.figure()\n",
        "ax2 = fig2.add_subplot(111)\n",
        "ax2.contourf(x, y, rv.pdf(pos))"
      ],
      "execution_count": 0,
      "outputs": [
        {
          "output_type": "execute_result",
          "data": {
            "text/plain": [
              "<matplotlib.contour.QuadContourSet at 0x7f65eb49fcc0>"
            ]
          },
          "metadata": {
            "tags": []
          },
          "execution_count": 9
        },
        {
          "output_type": "display_data",
          "data": {
            "image/png": "[encoded data removed]",
            "text/plain": [
              "<Figure size 432x288 with 1 Axes>"
            ]
          },
          "metadata": {
            "tags": []
          }
        }
      ]
    },
    {
      "cell_type": "code",
      "metadata": {
        "id": "jI5RyAyIFRah",
        "colab_type": "code",
        "colab": {
          "base_uri": "https://localhost:8080/",
          "height": 34
        },
        "outputId": "1f826f85-5c8a-43b6-8c95-63e06e59c175"
      },
      "source": [
        "print(\"Andrew Ng Linear Regression\")"
      ],
      "execution_count": 1,
      "outputs": [
        {
          "output_type": "stream",
          "text": [
            "Andrew Ng Linear Regression\n"
          ],
          "name": "stdout"
        }
      ]
    },
    {
      "cell_type": "markdown",
      "metadata": {
        "id": "B_FgDSImNPlj",
        "colab_type": "text"
      },
      "source": [
        ""
      ]
    },
    {
      "cell_type": "code",
      "metadata": {
        "id": "FXv4mOaYGias",
        "colab_type": "code",
        "colab": {}
      },
      "source": [
        "import pandas as pd"
      ],
      "execution_count": 0,
      "outputs": []
    },
    {
      "cell_type": "code",
      "metadata": {
        "id": "TyerQEzJGOgz",
        "colab_type": "code",
        "colab": {
          "base_uri": "https://localhost:8080/",
          "height": 1000
        },
        "outputId": "99c455c4-1768-4713-d689-6a9cf96bddc9"
      },
      "source": [
        "url=\"https://raw.githubusercontent.com/aist2000/ml-test/master/py/machine-learning-ex1/ex1data1.txt\"\n",
        "data = pd.read_csv(url)\n",
        "data.describe"
      ],
      "execution_count": 16,
      "outputs": [
        {
          "output_type": "execute_result",
          "data": {
            "text/plain": [
              "<bound method NDFrame.describe of      6.1101    17.592\n",
              "0    5.5277   9.13020\n",
              "1    8.5186  13.66200\n",
              "2    7.0032  11.85400\n",
              "3    5.8598   6.82330\n",
              "4    8.3829  11.88600\n",
              "5    7.4764   4.34830\n",
              "6    8.5781  12.00000\n",
              "7    6.4862   6.59870\n",
              "8    5.0546   3.81660\n",
              "9    5.7107   3.25220\n",
              "10  14.1640  15.50500\n",
              "11   5.7340   3.15510\n",
              "12   8.4084   7.22580\n",
              "13   5.6407   0.71618\n",
              "14   5.3794   3.51290\n",
              "15   6.3654   5.30480\n",
              "16   5.1301   0.56077\n",
              "17   6.4296   3.65180\n",
              "18   7.0708   5.38930\n",
              "19   6.1891   3.13860\n",
              "20  20.2700  21.76700\n",
              "21   5.4901   4.26300\n",
              "22   6.3261   5.18750\n",
              "23   5.5649   3.08250\n",
              "24  18.9450  22.63800\n",
              "25  12.8280  13.50100\n",
              "26  10.9570   7.04670\n",
              "27  13.1760  14.69200\n",
              "28  22.2030  24.14700\n",
              "29   5.2524  -1.22000\n",
              "..      ...       ...\n",
              "66  10.2360   7.77540\n",
              "67   5.4994   1.01730\n",
              "68  20.3410  20.99200\n",
              "69  10.1360   6.67990\n",
              "70   7.3345   4.02590\n",
              "71   6.0062   1.27840\n",
              "72   7.2259   3.34110\n",
              "73   5.0269  -2.68070\n",
              "74   6.5479   0.29678\n",
              "75   7.5386   3.88450\n",
              "76   5.0365   5.70140\n",
              "77  10.2740   6.75260\n",
              "78   5.1077   2.05760\n",
              "79   5.7292   0.47953\n",
              "80   5.1884   0.20421\n",
              "81   6.3557   0.67861\n",
              "82   9.7687   7.54350\n",
              "83   6.5159   5.34360\n",
              "84   8.5172   4.24150\n",
              "85   9.1802   6.79810\n",
              "86   6.0020   0.92695\n",
              "87   5.5204   0.15200\n",
              "88   5.0594   2.82140\n",
              "89   5.7077   1.84510\n",
              "90   7.6366   4.29590\n",
              "91   5.8707   7.20290\n",
              "92   5.3054   1.98690\n",
              "93   8.2934   0.14454\n",
              "94  13.3940   9.05510\n",
              "95   5.4369   0.61705\n",
              "\n",
              "[96 rows x 2 columns]>"
            ]
          },
          "metadata": {
            "tags": []
          },
          "execution_count": 16
        }
      ]
    },
    {
      "cell_type": "code",
      "metadata": {
        "id": "x1-81US2GTxj",
        "colab_type": "code",
        "colab": {}
      },
      "source": [
        "df1 = pd.read_csv(url)\n",
        "#df1.describe\n"
      ],
      "execution_count": 0,
      "outputs": []
    }
  ]
}