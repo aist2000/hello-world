{
  "nbformat": 4,
  "nbformat_minor": 0,
  "metadata": {
    "colab": {
      "name": "ANG_Ex2_Logistic Regression_Regularization",
      "provenance": [],
      "private_outputs": true,
      "collapsed_sections": [],
      "include_colab_link": true
    },
    "kernelspec": {
      "name": "python3",
      "display_name": "Python 3"
    }
  },
  "cells": [
    {
      "cell_type": "markdown",
      "metadata": {
        "id": "view-in-github",
        "colab_type": "text"
      },
      "source": [
        "<a href=\"https://colab.research.google.com/github/aist2000/ml-test/blob/master/ANG_Ex2_Logistic_Regression_Regularization.ipynb\" target=\"_parent\"><img src=\"https://colab.research.google.com/assets/colab-badge.svg\" alt=\"Open In Colab\"/></a>"
      ]
    },
    {
      "cell_type": "markdown",
      "metadata": {
        "id": "oCv3DQ67PXvE",
        "colab_type": "text"
      },
      "source": [
        "# Andrew Ng’s Machine Learning (Logistic Regression with Regularization)\n",
        "\n"
      ]
    },
    {
      "cell_type": "markdown",
      "metadata": {
        "id": "qzVkhtp-rNKb",
        "colab_type": "text"
      },
      "source": [
        ""
      ]
    },
    {
      "cell_type": "markdown",
      "metadata": {
        "id": "ElVqyRdE4ie0",
        "colab_type": "text"
      },
      "source": [
        "# Initialize Data"
      ]
    },
    {
      "cell_type": "code",
      "metadata": {
        "id": "7DXEJJ7QPZId",
        "colab_type": "code",
        "colab": {}
      },
      "source": [
        "import matplotlib.pyplot as plt\n",
        "import numpy as np\n",
        "import pandas as pd\n",
        "import array as arr\n",
        "\n",
        "from sklearn import datasets, linear_model\n",
        "\n"
      ],
      "execution_count": 0,
      "outputs": []
    },
    {
      "cell_type": "code",
      "metadata": {
        "id": "jI5RyAyIFRah",
        "colab_type": "code",
        "colab": {}
      },
      "source": [
        "print(\"Andrew Ng Logistic Regression with Regularization\")"
      ],
      "execution_count": 0,
      "outputs": []
    },
    {
      "cell_type": "code",
      "metadata": {
        "id": "TyerQEzJGOgz",
        "colab_type": "code",
        "colab": {}
      },
      "source": [
        "url=\"https://raw.githubusercontent.com/aist2000/ml-test/master/py/machine-learning-ex2/ex2data2.txt\"\n",
        "df = pd.read_csv(url, header=None)\n",
        "df.head()\n"
      ],
      "execution_count": 0,
      "outputs": []
    },
    {
      "cell_type": "code",
      "metadata": {
        "id": "3PKHyoFXQYuo",
        "colab_type": "code",
        "colab": {}
      },
      "source": [
        "df.describe()"
      ],
      "execution_count": 0,
      "outputs": []
    },
    {
      "cell_type": "code",
      "metadata": {
        "id": "rZ_1N9HJ5Z-_",
        "colab_type": "code",
        "colab": {}
      },
      "source": [
        "df=df.rename(columns={0:'X1',1:'X2',2:'label'})\n",
        "df.head()\n"
      ],
      "execution_count": 0,
      "outputs": []
    },
    {
      "cell_type": "code",
      "metadata": {
        "id": "MC-e8G-cC8Pw",
        "colab_type": "code",
        "colab": {}
      },
      "source": [
        "X = df.iloc[:,0:2]\n",
        "y = df.iloc[:,2:3]\n",
        "\n",
        "X_train = X\n",
        "y_train = y\n"
      ],
      "execution_count": 0,
      "outputs": []
    },
    {
      "cell_type": "code",
      "metadata": {
        "id": "gz9KvIdg4dsb",
        "colab_type": "code",
        "colab": {}
      },
      "source": [
        "pos=X[y.label==1]\n",
        "neg=X[y.label==0]\n"
      ],
      "execution_count": 0,
      "outputs": []
    },
    {
      "cell_type": "code",
      "metadata": {
        "id": "5zmJnxfx46Bm",
        "colab_type": "code",
        "colab": {}
      },
      "source": [
        "# Chart\n",
        "ser1 = plt.scatter(pos.X1,pos.X2, color='black', marker='+', linewidth='1', label='y=1')\n",
        "ser2 = plt.scatter(neg.X1,neg.X2, color=\"yellow\", marker='o', edgecolor='black', linewidth='1', label='y=2')\n",
        "\n",
        "plt.xlabel('Microchip Test 1')\n",
        "plt.ylabel('Microchip Test 2')\n",
        "\n",
        "\n",
        "plt.title('Data set')\n",
        "\n",
        "#plt.axis([-1, 1.5, -1, 1.5])\n",
        "\n",
        "plt.legend(loc='upper right')\n",
        "plt.show()\n"
      ],
      "execution_count": 0,
      "outputs": []
    },
    {
      "cell_type": "markdown",
      "metadata": {
        "id": "4-Lvz6OvVCAq",
        "colab_type": "text"
      },
      "source": [
        "**Scilearn Logistic Regression**"
      ]
    },
    {
      "cell_type": "code",
      "metadata": {
        "id": "jqSsTc5UXLwZ",
        "colab_type": "code",
        "colab": {}
      },
      "source": [
        "# import the class\n",
        "from sklearn.linear_model import LogisticRegression\n",
        "from sklearn.preprocessing import PolynomialFeatures\n",
        "\n",
        "# instantiate the model (using the default parameters)\n",
        "#model = LogisticRegression(solver=\"liblinear\")\n",
        "model = LogisticRegression(max_iter =400, solver='lbfgs')\n",
        "\n",
        "poly = PolynomialFeatures(degree = 6,interaction_only=False, include_bias=False)\n",
        "X_train_poly= poly.fit_transform(X_train)\n",
        "\n",
        "\n",
        "\n",
        "# fit the model with data\n",
        "\n",
        "#odel.fit(X_train, y_train.label)\n",
        "model.fit(X_train_poly, y_train.label)\n",
        "\n",
        "model.coef_, model.intercept_\n",
        "\n",
        "X_train_poly.shape, X_train_poly\n"
      ],
      "execution_count": 0,
      "outputs": []
    },
    {
      "cell_type": "markdown",
      "metadata": {
        "id": "QT110dDdvk0K",
        "colab_type": "text"
      },
      "source": [
        "**Predictions by SciLearn**"
      ]
    },
    {
      "cell_type": "code",
      "metadata": {
        "id": "RVeV7E61OSJ8",
        "colab_type": "code",
        "colab": {}
      },
      "source": [
        "# Chart\n",
        "ser1 = plt.scatter(pos.X1,pos.X2, color='black', marker='+', linewidth='1', label='Positive')\n",
        "ser2 = plt.scatter(neg.X1,neg.X2, color=\"yellow\", marker='o', edgecolor='black', linewidth='1', label='Negative')\n",
        "\n",
        "plt.xlabel('Exam 1 score')\n",
        "plt.ylabel('Exam 2 score')\n",
        "\n",
        "a = model.intercept_[0]\n",
        "b = model.coef_[0][0]\n",
        "c= model.coef_[0][1]\n",
        "#c = model.coef_[1]\n",
        "# plot decision boundary\n",
        "\n",
        "# getting the x co-ordinates of the decision boundary\n",
        "#plot_x = np.array([min(X_train.X1) - 2, max(X_train.X1) + 2])\n",
        "# getting corresponding y co-ordinates of the decision boundary\n",
        "#plot_y = (-1/c) * (b * plot_x + a)\n",
        "\n",
        "\n",
        "# Plotting the Single Line Decision Boundary\n",
        "#plt.plot(plot_x, plot_y, label = \"Decision_Boundary\")\n",
        "\n",
        "\n",
        "plt.title('Data set')\n",
        "\n",
        "#plt.axis([20, 120, 20, 120])\n",
        "\n",
        "plt.legend(loc='upper right')\n",
        "plt.show()\n",
        "\n"
      ],
      "execution_count": 0,
      "outputs": []
    },
    {
      "cell_type": "code",
      "metadata": {
        "id": "yKRojRZrRpfN",
        "colab_type": "code",
        "colab": {}
      },
      "source": [
        "# Plot the decision boundary. For that, we will assign a color to each\n",
        "# point in the mesh [x_min, x_max]x[y_min, y_max].\n",
        "x_min, x_max = X_train.X1.min() - .5, X_train.X2.max() + .5\n",
        "y_min, y_max = X_train.X2.min() - .5, X_train.X2.max() + .5\n",
        "h = .02  # step size in the mesh\n",
        "xx, yy = np.meshgrid(np.arange(x_min, x_max, h), np.arange(y_min, y_max, h))\n",
        "\n",
        "\n",
        "#Z = model.predict(np.c_[xx.ravel(), yy.ravel()])\n",
        "Z = model.predict_proba( X_train_poly)\n",
        "\n",
        "xx.shape, yy.shape\n",
        "\n",
        "\n",
        "proba = Z[:,1]\n",
        "\n",
        "t=0.05\n",
        "\n",
        "Zidx=np.nonzero( ( proba> 0.5-t)  & (proba<0.5+t) ) \n",
        "\n",
        "Xx =  X_train.iloc[ Zidx]\n",
        "Zval = X_train.iloc[ Zidx]\n",
        "\n",
        "#plt.contour(X_train)\n",
        "\n",
        "#plt.contour( [[0.5,0.5],[0.7,0.7],[0.6,0.9], [0.7,0.7] ])\n",
        "\n",
        "delta = 0.025\n",
        "x = np.arange(-3.0, 3.0, delta)\n",
        "y = np.arange(-2.0, 2.0, delta)\n",
        "X, Y = np.meshgrid(x, y)\n",
        "Z1 = np.exp(-X**2 - Y**2)\n",
        "Z2 = np.exp(-(X - 1)**2 - (Y - 1)**2)\n",
        "Z = (Z1 - Z2) * 2\n",
        "\n",
        "fig, ax = plt.subplots()\n",
        "CS = ax.contour(X, Y, Z, [0.5] )\n",
        "ax.clabel(CS, inline=1, fontsize=10)\n",
        "ax.set_title('Simplest default with labels')\n"
      ],
      "execution_count": 0,
      "outputs": []
    },
    {
      "cell_type": "code",
      "metadata": {
        "id": "lwxD38NBCDrK",
        "colab_type": "code",
        "colab": {}
      },
      "source": [
        "x = np.arange(-3.0, 3.1, 0.1)\n",
        "y = np.arange(-3.0, 3.1, 0.1)\n",
        "X, Y = np.meshgrid(x, y)\n",
        "\n",
        "\n",
        "Z = X**2+Y**2\n",
        "\n",
        "\n",
        "#fig, ax = plt.subplots(figsize=(6,6))\n",
        "#fig, ax = plt.subplots(figsize=(6,6))\n",
        "\n",
        "\n",
        "CS=plt.contour(X,Y,Z,[4.2424])\n",
        "#CS = plt.contour(X[25:35],Y[25:35],Z[25:35], [1.5])\n",
        "plt.clabel(CS, inline=1, fontsize=10)\n",
        "\n",
        "\n",
        "plt.show()\n",
        "X.shape, Y.shape, Z.shape\n",
        "X[Z[ (Z>3.9)&(Z<4.1) ]]\n",
        "#X[25:35],Y[25:35],Z[25:35]"
      ],
      "execution_count": 0,
      "outputs": []
    },
    {
      "cell_type": "code",
      "metadata": {
        "id": "Jazfi1sV4_ah",
        "colab_type": "code",
        "colab": {}
      },
      "source": [
        "# Plot the decision boundary. For that, we will assign a color to each\n",
        "# point in the mesh [x_min, x_max]x[y_min, y_max].\n",
        "x_min, x_max = X_train.X1.min() - .5, X_train.X2.max() + .5\n",
        "y_min, y_max = X_train.X2.min() - .5, X_train.X2.max() + .5\n",
        "h = .05  # step size in the mesh\n",
        "xx, yy = np.meshgrid(np.arange(x_min, x_max, h), np.arange(y_min, y_max, h))\n",
        "#X_train_poly= poly.fit_transform(X_train)\n",
        "#xx_poly= poly.fit_transform(xx)\n",
        "xx.shape, yy.shape\n",
        "xy=[xx.ravel(), yy.ravel()]\n",
        "\n",
        "#model.fit( X_train_poly, y_train.label)\n",
        "\n",
        "model.coef_, model.intercept_\n",
        "#Z = model.predict(np.c_[xx.ravel(), yy.ravel()])\n",
        "#Z = model.predict_proba( X_train_poly)\n",
        "#Z = model.predict(xy)\n"
      ],
      "execution_count": 0,
      "outputs": []
    },
    {
      "cell_type": "code",
      "metadata": {
        "id": "7uEjJajhyMl7",
        "colab_type": "code",
        "colab": {}
      },
      "source": [
        "\n",
        "\n",
        "proba = Z[:,1]\n",
        "\n",
        "t=0.05\n",
        "\n",
        "Zidx=np.nonzero( ( proba> 0.5-t)  & (proba<0.5+t) ) \n",
        "\n",
        "Xx =  X_train.iloc[ Zidx]\n",
        "Zval = X_train.iloc[ Zidx]\n",
        "\n",
        "xx.shape, yy.shape, Z.shape\n",
        "#plt.contour(xx,yy, Z,0)\n",
        "#plt.contour(X_train.X1, X_train.X2, Z[:,1])\n",
        "#plt.contour(X_train, [0,1,2,3])\n",
        "\n",
        "\n",
        "\n"
      ],
      "execution_count": 0,
      "outputs": []
    },
    {
      "cell_type": "markdown",
      "metadata": {
        "id": "IxumD91zp_On",
        "colab_type": "text"
      },
      "source": [
        ""
      ]
    },
    {
      "cell_type": "code",
      "metadata": {
        "id": "jeHIExUnUlGJ",
        "colab_type": "code",
        "colab": {}
      },
      "source": [
        "x1= [45, 85]\n",
        "pred1= model.predict( np.array(x1, ndmin=2) )\n",
        "proba1= model.predict_proba( np.array(x1, ndmin=2) )\n",
        "print(\"For parameters = {}, we predict {} proba={}\".format(x1, pred1, proba1[:,1]))\n",
        "\n",
        "\n",
        "model_accuracy=model.score(X_train,  y.label)\n",
        "\n",
        "\n",
        "y_pred= model.predict( X_train)\n",
        "\n",
        "calc_accuracy =  sum(y_pred == y.label) /  y.label.count()\n",
        "\n",
        "print(\"Model Accuracy {} ; Calculated Accuracy={}\".format(model_accuracy, calc_accuracy) )\n",
        "\n",
        "\n",
        "\n"
      ],
      "execution_count": 0,
      "outputs": []
    }
  ]
}